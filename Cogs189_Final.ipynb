{
 "cells": [
  {
   "cell_type": "markdown",
   "metadata": {},
   "source": [
    "# COGS 189: Final Project\n",
    "### Members: Ehson Pirouzian, ... write your own\n",
    "\n",
    "This is our Winter 2022 Final Project for COGS 189\n",
    "The purpose is a machine learning project that relates to motor sensory data from BCI competition IV dataset 2a"
   ]
  },
  {
   "cell_type": "markdown",
   "metadata": {},
   "source": [
    "### Hypothesis\n",
    "\n",
    "Is it easiest to classify data left hand sensory data against right hand, foot, or tounge sensory data?"
   ]
  },
  {
   "cell_type": "markdown",
   "metadata": {},
   "source": [
    "### Code\n",
    "\n",
    "We will use matlab and python for how we test our hypothesis\n"
   ]
  },
  {
   "cell_type": "markdown",
   "metadata": {},
   "source": [
    "#### Importing the data"
   ]
  },
  {
   "cell_type": "code",
   "execution_count": 76,
   "metadata": {},
   "outputs": [],
   "source": [
    "import os\n",
    "import numpy as np\n",
    "import pandas as pd\n",
    "from pprint import pprint\n",
    "import scipy.io as sio\n",
    "import mne\n",
    "\n",
    "def get_data(subject,training,PATH):\n",
    "\tNO_channels = 22\n",
    "\tNO_tests = 6*48 \t\n",
    "\tWindow_Length = 7*250 \n",
    "\n",
    "\tclass_return = np.zeros(NO_tests)\n",
    "\tdata_return = np.zeros((NO_tests,NO_channels,Window_Length))\n",
    "\n",
    "\tNO_valid_trial = 0\n",
    "\tif training:\n",
    "\t\ta = sio.loadmat(PATH+'A0'+str(subject)+'T.mat')\n",
    "\telse:\n",
    "\t\ta = sio.loadmat(PATH+'A0'+str(subject)+'E.mat')\n",
    "\ta_data = a['data']\n",
    "\tfor ii in range(0,a_data.size):\n",
    "\t\ta_data1 = a_data[0,ii]\n",
    "\t\ta_data2=[a_data1[0,0]]\n",
    "\t\ta_data3=a_data2[0]\n",
    "\t\ta_X \t\t= a_data3[0]\n",
    "\t\ta_trial \t= a_data3[1]\n",
    "\t\ta_y \t\t= a_data3[2]\n",
    "\t\ta_fs \t\t= a_data3[3]\n",
    "\t\ta_classes \t= a_data3[4]\n",
    "\t\ta_artifacts = a_data3[5]\n",
    "\t\ta_gender \t= a_data3[6]\n",
    "\t\ta_age \t\t= a_data3[7]\n",
    "\t\tfor trial in range(0,a_trial.size):\n",
    "\t\t\tif(a_artifacts[trial]==0):\n",
    "\t\t\t\tdata_return[NO_valid_trial,:,:] = np.transpose(a_X[int(a_trial[trial]):(int(a_trial[trial])+Window_Length),:22])\n",
    "\t\t\t\tclass_return[NO_valid_trial] = int(a_y[trial])\n",
    "\t\t\t\tNO_valid_trial +=1\n",
    "\n",
    "\n",
    "\treturn data_return[0:NO_valid_trial,:,:], class_return[0:NO_valid_trial]\n",
    "\t\n",
    "\n",
    "# Now we will import each of the 9 training files\n",
    "df1, classes1 = get_data(\"1\",True,\"./dataset2a/\")\n",
    "df2, classes2 = get_data(\"2\",True,\"./dataset2a/\")\n",
    "df3, classes3 = get_data(\"3\",True,\"./dataset2a/\")\n",
    "df4, classes4 = get_data(\"4\",True,\"./dataset2a/\")\n",
    "df5, classes5 = get_data(\"5\",True,\"./dataset2a/\")\n",
    "df6, classes6 = get_data(\"6\",True,\"./dataset2a/\")\n",
    "df7, classes7 = get_data(\"7\",True,\"./dataset2a/\")\n",
    "# df8, classes8 = get_data(\"8\",True,\"./dataset2a/\")\n",
    "# df9, classes9 = get_data(\"9\",True,\"./dataset2a/\")\n"
   ]
  },
  {
   "cell_type": "code",
   "execution_count": 102,
   "metadata": {},
   "outputs": [
    {
     "name": "stdout",
     "output_type": "stream",
     "text": [
      "(262, 22, 1750)\n",
      "(262,)\n"
     ]
    },
    {
     "ename": "AttributeError",
     "evalue": "'DataFrame' object has no attribute 'concat'",
     "output_type": "error",
     "traceback": [
      "\u001b[0;31m---------------------------------------------------------------------------\u001b[0m",
      "\u001b[0;31mAttributeError\u001b[0m                            Traceback (most recent call last)",
      "\u001b[0;32m/var/folders/vm/4clncyz129b_xbn8m9snhw780000gn/T/ipykernel_74662/754923131.py\u001b[0m in \u001b[0;36m<module>\u001b[0;34m\u001b[0m\n\u001b[1;32m     14\u001b[0m         \u001b[0;32mfor\u001b[0m \u001b[0mdataIndex\u001b[0m \u001b[0;32min\u001b[0m \u001b[0mrange\u001b[0m\u001b[0;34m(\u001b[0m\u001b[0mdf1\u001b[0m\u001b[0;34m[\u001b[0m\u001b[0mindex\u001b[0m\u001b[0;34m]\u001b[0m\u001b[0;34m[\u001b[0m\u001b[0;36m7\u001b[0m\u001b[0;34m]\u001b[0m\u001b[0;34m.\u001b[0m\u001b[0msize\u001b[0m\u001b[0;34m)\u001b[0m\u001b[0;34m:\u001b[0m\u001b[0;34m\u001b[0m\u001b[0;34m\u001b[0m\u001b[0m\n\u001b[1;32m     15\u001b[0m             \u001b[0;32mif\u001b[0m\u001b[0;34m(\u001b[0m\u001b[0mdataIndex\u001b[0m \u001b[0;34m>\u001b[0m \u001b[0;36m750\u001b[0m\u001b[0;34m)\u001b[0m\u001b[0;34m:\u001b[0m\u001b[0;34m\u001b[0m\u001b[0;34m\u001b[0m\u001b[0m\n\u001b[0;32m---> 16\u001b[0;31m                 \u001b[0mleftHandData\u001b[0m\u001b[0;34m.\u001b[0m\u001b[0mconcat\u001b[0m\u001b[0;34m(\u001b[0m\u001b[0;34m{\u001b[0m\u001b[0;34m'EEGC3'\u001b[0m\u001b[0;34m:\u001b[0m \u001b[0mdf1\u001b[0m\u001b[0;34m[\u001b[0m\u001b[0mindex\u001b[0m\u001b[0;34m]\u001b[0m\u001b[0;34m[\u001b[0m\u001b[0;36m7\u001b[0m\u001b[0;34m]\u001b[0m\u001b[0;34m[\u001b[0m\u001b[0mdataIndex\u001b[0m\u001b[0;34m]\u001b[0m\u001b[0;34m}\u001b[0m\u001b[0;34m,\u001b[0m\u001b[0mignore_index\u001b[0m\u001b[0;34m=\u001b[0m\u001b[0;32mTrue\u001b[0m\u001b[0;34m)\u001b[0m\u001b[0;34m\u001b[0m\u001b[0;34m\u001b[0m\u001b[0m\n\u001b[0m\u001b[1;32m     17\u001b[0m                 \u001b[0mleftHandData\u001b[0m\u001b[0;34m.\u001b[0m\u001b[0mconcat\u001b[0m\u001b[0;34m(\u001b[0m\u001b[0;34m{\u001b[0m\u001b[0;34m'EEGCz'\u001b[0m\u001b[0;34m:\u001b[0m \u001b[0mdf1\u001b[0m\u001b[0;34m[\u001b[0m\u001b[0mindex\u001b[0m\u001b[0;34m]\u001b[0m\u001b[0;34m[\u001b[0m\u001b[0;36m9\u001b[0m\u001b[0;34m]\u001b[0m\u001b[0;34m[\u001b[0m\u001b[0mdataIndex\u001b[0m\u001b[0;34m]\u001b[0m\u001b[0;34m}\u001b[0m\u001b[0;34m,\u001b[0m\u001b[0mignore_index\u001b[0m\u001b[0;34m=\u001b[0m\u001b[0;32mTrue\u001b[0m\u001b[0;34m)\u001b[0m\u001b[0;34m\u001b[0m\u001b[0;34m\u001b[0m\u001b[0m\n\u001b[1;32m     18\u001b[0m                 \u001b[0mleftHandData\u001b[0m\u001b[0;34m.\u001b[0m\u001b[0mconcat\u001b[0m\u001b[0;34m(\u001b[0m\u001b[0;34m{\u001b[0m\u001b[0;34m'EEGC4'\u001b[0m\u001b[0;34m:\u001b[0m \u001b[0mdf1\u001b[0m\u001b[0;34m[\u001b[0m\u001b[0mindex\u001b[0m\u001b[0;34m]\u001b[0m\u001b[0;34m[\u001b[0m\u001b[0;36m11\u001b[0m\u001b[0;34m]\u001b[0m\u001b[0;34m[\u001b[0m\u001b[0mdataIndex\u001b[0m\u001b[0;34m]\u001b[0m\u001b[0;34m}\u001b[0m\u001b[0;34m,\u001b[0m\u001b[0mignore_index\u001b[0m\u001b[0;34m=\u001b[0m\u001b[0;32mTrue\u001b[0m\u001b[0;34m)\u001b[0m\u001b[0;34m\u001b[0m\u001b[0;34m\u001b[0m\u001b[0m\n",
      "\u001b[0;32m~/miniconda3/envs/cogs/lib/python3.9/site-packages/pandas/core/generic.py\u001b[0m in \u001b[0;36m__getattr__\u001b[0;34m(self, name)\u001b[0m\n\u001b[1;32m   5581\u001b[0m         ):\n\u001b[1;32m   5582\u001b[0m             \u001b[0;32mreturn\u001b[0m \u001b[0mself\u001b[0m\u001b[0;34m[\u001b[0m\u001b[0mname\u001b[0m\u001b[0;34m]\u001b[0m\u001b[0;34m\u001b[0m\u001b[0;34m\u001b[0m\u001b[0m\n\u001b[0;32m-> 5583\u001b[0;31m         \u001b[0;32mreturn\u001b[0m \u001b[0mobject\u001b[0m\u001b[0;34m.\u001b[0m\u001b[0m__getattribute__\u001b[0m\u001b[0;34m(\u001b[0m\u001b[0mself\u001b[0m\u001b[0;34m,\u001b[0m \u001b[0mname\u001b[0m\u001b[0;34m)\u001b[0m\u001b[0;34m\u001b[0m\u001b[0;34m\u001b[0m\u001b[0m\n\u001b[0m\u001b[1;32m   5584\u001b[0m \u001b[0;34m\u001b[0m\u001b[0m\n\u001b[1;32m   5585\u001b[0m     \u001b[0;32mdef\u001b[0m \u001b[0m__setattr__\u001b[0m\u001b[0;34m(\u001b[0m\u001b[0mself\u001b[0m\u001b[0;34m,\u001b[0m \u001b[0mname\u001b[0m\u001b[0;34m:\u001b[0m \u001b[0mstr\u001b[0m\u001b[0;34m,\u001b[0m \u001b[0mvalue\u001b[0m\u001b[0;34m)\u001b[0m \u001b[0;34m->\u001b[0m \u001b[0;32mNone\u001b[0m\u001b[0;34m:\u001b[0m\u001b[0;34m\u001b[0m\u001b[0;34m\u001b[0m\u001b[0m\n",
      "\u001b[0;31mAttributeError\u001b[0m: 'DataFrame' object has no attribute 'concat'"
     ]
    }
   ],
   "source": [
    "# 4 classes, #some number of tests, 3 channels, 1750 datapoints each\n",
    "# this will become 4 different dataframes for each class with 3 channels and #tests for each channel * datapoints\n",
    "\n",
    "leftHandData = pd.DataFrame(columns=['EEGC3', 'EEGCz', 'EEGC4'])\n",
    "rightHandData = pd.DataFrame(columns=['EEGC3', 'EEGCz', 'EEGC4'])\n",
    "footData = pd.DataFrame(columns=['EEGC3', 'EEGCz', 'EEGC4'])\n",
    "toungeData = pd.DataFrame(columns=['EEGC3', 'EEGCz', 'EEGC4'])\n",
    "index = 0\n",
    "\n",
    "### this is horrid. it is litterally gonna crash your PC\n",
    "\n",
    "for val in classes1:\n",
    "    if(int(val) == 1):\n",
    "        for dataIndex in range(df1[index][7].size):\n",
    "            if(dataIndex > 750):\n",
    "                leftHandData.append({'EEGC3': df1[index][7][dataIndex]},ignore_index=True)\n",
    "                leftHandData.append({'EEGCz': df1[index][9][dataIndex]},ignore_index=True)\n",
    "                leftHandData.append({'EEGC4': df1[index][11][dataIndex]},ignore_index=True)\n",
    "    index = index + 1\n",
    "\n",
    "\n",
    "    \n",
    "\n",
    "\n"
   ]
  },
  {
   "cell_type": "markdown",
   "metadata": {},
   "source": [
    "Here I will explain our reasoning for the above code\n",
    "\n",
    "\n",
    "\n",
    "\n",
    "\n",
    "\n",
    "As a citation of sources we used this data set as a guide for formatting our data\n",
    "\n",
    "1. https://github.com/MultiScale-BCI/IV-2a/blob/master/  by \"Michael Hersche and Tino Rellstab\""
   ]
  },
  {
   "cell_type": "markdown",
   "metadata": {},
   "source": []
  },
  {
   "cell_type": "markdown",
   "metadata": {},
   "source": []
  }
 ],
 "metadata": {
  "interpreter": {
   "hash": "ad3250197963f7c7d19e8abaa1df4bb0f2205c0f2efe8e4b49cbd870ac1b8664"
  },
  "kernelspec": {
   "display_name": "Python 3.9.7 ('cogs')",
   "language": "python",
   "name": "python3"
  },
  "language_info": {
   "codemirror_mode": {
    "name": "ipython",
    "version": 3
   },
   "file_extension": ".py",
   "mimetype": "text/x-python",
   "name": "python",
   "nbconvert_exporter": "python",
   "pygments_lexer": "ipython3",
   "version": "3.9.7"
  },
  "orig_nbformat": 4
 },
 "nbformat": 4,
 "nbformat_minor": 2
}

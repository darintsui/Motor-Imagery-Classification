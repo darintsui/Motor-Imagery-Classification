{
 "cells": [
  {
   "cell_type": "markdown",
   "metadata": {},
   "source": [
    "# COGS 189: Final Project\n",
    "### Members: Ehson Pirouzian, ... write your own\n",
    "\n",
    "This is our Winter 2022 Final Project for COGS 189\n",
    "The purpose is a machine learning project that relates to motor sensory data from BCI competition IV dataset 2a"
   ]
  },
  {
   "cell_type": "markdown",
   "metadata": {},
   "source": [
    "### Hypothesis\n",
    "\n",
    "Is it easiest to classify data left hand sensory data against right hand, foot, or tounge sensory data?"
   ]
  },
  {
   "cell_type": "markdown",
   "metadata": {},
   "source": [
    "### Code\n",
    "\n",
    "We will use matlab and python for how we test our hypothesis\n"
   ]
  },
  {
   "cell_type": "markdown",
   "metadata": {},
   "source": [
    "#### Importing the data"
   ]
  },
  {
   "cell_type": "code",
   "execution_count": 76,
   "metadata": {},
   "outputs": [],
   "source": [
    "import os\n",
    "import numpy as np\n",
    "import pandas as pd\n",
    "from pprint import pprint\n",
    "import scipy.io as sio\n",
    "import mne\n",
    "\n",
    "def get_data(subject,training,PATH):\n",
    "\tNO_channels = 22\n",
    "\tNO_tests = 6*48 \t\n",
    "\tWindow_Length = 7*250 \n",
    "\n",
    "\tclass_return = np.zeros(NO_tests)\n",
    "\tdata_return = np.zeros((NO_tests,NO_channels,Window_Length))\n",
    "\n",
    "\tNO_valid_trial = 0\n",
    "\tif training:\n",
    "\t\ta = sio.loadmat(PATH+'A0'+str(subject)+'T.mat')\n",
    "\telse:\n",
    "\t\ta = sio.loadmat(PATH+'A0'+str(subject)+'E.mat')\n",
    "\ta_data = a['data']\n",
    "\tfor ii in range(0,a_data.size):\n",
    "\t\ta_data1 = a_data[0,ii]\n",
    "\t\ta_data2=[a_data1[0,0]]\n",
    "\t\ta_data3=a_data2[0]\n",
    "\t\ta_X \t\t= a_data3[0]\n",
    "\t\ta_trial \t= a_data3[1]\n",
    "\t\ta_y \t\t= a_data3[2]\n",
    "\t\ta_fs \t\t= a_data3[3]\n",
    "\t\ta_classes \t= a_data3[4]\n",
    "\t\ta_artifacts = a_data3[5]\n",
    "\t\ta_gender \t= a_data3[6]\n",
    "\t\ta_age \t\t= a_data3[7]\n",
    "\t\tfor trial in range(0,a_trial.size):\n",
    "\t\t\tif(a_artifacts[trial]==0):\n",
    "\t\t\t\tdata_return[NO_valid_trial,:,:] = np.transpose(a_X[int(a_trial[trial]):(int(a_trial[trial])+Window_Length),:22])\n",
    "\t\t\t\tclass_return[NO_valid_trial] = int(a_y[trial])\n",
    "\t\t\t\tNO_valid_trial +=1\n",
    "\n",
    "\n",
    "\treturn data_return[0:NO_valid_trial,:,:], class_return[0:NO_valid_trial]\n",
    "\t\n",
    "\n",
    "# Now we will import each of the 9 training files\n",
    "df1, classes1 = get_data(\"1\",True,\"./dataset2a/\")\n",
    "df2, classes2 = get_data(\"2\",True,\"./dataset2a/\")\n",
    "df3, classes3 = get_data(\"3\",True,\"./dataset2a/\")\n",
    "df4, classes4 = get_data(\"4\",True,\"./dataset2a/\")\n",
    "df5, classes5 = get_data(\"5\",True,\"./dataset2a/\")\n",
    "df6, classes6 = get_data(\"6\",True,\"./dataset2a/\")\n",
    "df7, classes7 = get_data(\"7\",True,\"./dataset2a/\")\n",
    "df8, classes8 = get_data(\"8\",True,\"./dataset2a/\")\n",
    "df9, classes9 = get_data(\"9\",True,\"./dataset2a/\")\n"
   ]
  },
  {
   "cell_type": "code",
   "execution_count": 77,
   "metadata": {},
   "outputs": [],
   "source": [
    "# 4 classes, #some number of tests, 3 channels, 1750 datapoints each\n",
    "# this will become 4 different dataframes for each class with 3 channels and #tests for each channel * datapoints\n",
    "\n",
    "df1 = df1[:,(7,9,11),:]\n",
    "df2 = df2[:,(7,9,11),:]\n",
    "df3 = df3[:,(7,9,11),:]\n",
    "df4 = df4[:,(7,9,11),:]\n",
    "df5 = df5[:,(7,9,11),:]\n",
    "df6 = df6[:,(7,9,11),:]\n",
    "df7 = df7[:,(7,9,11),:]\n",
    "df8 = df8[:,(7,9,11),:]\n",
    "df9 = df9[:,(7,9,11),:]\n",
    "\n"
   ]
  },
  {
   "cell_type": "code",
   "execution_count": 79,
   "metadata": {},
   "outputs": [
    {
     "name": "stdout",
     "output_type": "stream",
     "text": [
      "(273, 3, 1750)\n",
      "(270, 3, 1750)\n"
     ]
    }
   ],
   "source": [
    "\n",
    "# df = np.dstack((df1,df2))\n",
    "# print(df1.shape)\n",
    "# print(df2.shape)\n",
    "events, = events_from_annotations(df1, event_id=dict(T1=2, T2=3)"
   ]
  },
  {
   "cell_type": "markdown",
   "metadata": {},
   "source": [
    "Here I will explain our reasoning for the above code\n",
    "\n",
    "\n",
    "\n",
    "\n",
    "\n",
    "\n",
    "As a citation of sources we used this data set as a guide for formatting our data\n",
    "\n",
    "1. https://github.com/MultiScale-BCI/IV-2a/blob/master/  by \"Michael Hersche and Tino Rellstab\""
   ]
  },
  {
   "cell_type": "code",
   "execution_count": 58,
   "metadata": {},
   "outputs": [
    {
     "name": "stdout",
     "output_type": "stream",
     "text": [
      "Setting up band-pass filter from 7 - 30 Hz\n",
      "\n",
      "FIR filter parameters\n",
      "---------------------\n",
      "Designing a one-pass, zero-phase, non-causal bandpass filter:\n",
      "- Windowed time-domain design (firwin) method\n",
      "- Hamming window with 0.0194 passband ripple and 53 dB stopband attenuation\n",
      "- Lower passband edge: 7.00\n",
      "- Lower transition bandwidth: 2.00 Hz (-6 dB cutoff frequency: 6.00 Hz)\n",
      "- Upper passband edge: 30.00 Hz\n",
      "- Upper transition bandwidth: 7.50 Hz (-6 dB cutoff frequency: 33.75 Hz)\n",
      "- Filter length: 413 samples (1.652 sec)\n",
      "\n"
     ]
    },
    {
     "data": {
      "text/plain": [
       "array([[[-1.33226763e-15,  1.69862415e+00,  3.20955210e+00, ...,\n",
       "         -1.66069267e+00, -8.31542996e-01,  3.33066907e-16],\n",
       "        [ 1.77635684e-15,  1.44170889e+00,  2.86573339e+00, ...,\n",
       "         -3.41096572e+00, -2.17692728e+00,  2.77555756e-17],\n",
       "        [ 1.77635684e-15,  1.60477306e+00,  2.53070608e+00, ...,\n",
       "         -2.34566520e+00, -1.67980393e+00, -2.66453526e-15]],\n",
       "\n",
       "       [[-1.11022302e-16, -3.83210222e+00, -6.51357443e+00, ...,\n",
       "          3.29395162e+00,  1.26800011e+00, -1.11022302e-16],\n",
       "        [-1.33226763e-15, -2.42396282e+00, -4.53281705e+00, ...,\n",
       "         -7.39952625e-01, -1.20360462e+00,  1.55431223e-15],\n",
       "        [-8.88178420e-16,  1.95087699e+00,  2.75953076e+00, ...,\n",
       "         -4.34003141e+00, -3.09733200e+00, -4.44089210e-16]],\n",
       "\n",
       "       [[-1.77635684e-15, -3.60176071e+00, -6.92675852e+00, ...,\n",
       "          4.60832694e-01,  5.78924654e-01,  2.66453526e-15],\n",
       "        [ 4.44089210e-16, -2.98195384e+00, -5.63248079e+00, ...,\n",
       "          4.13067667e+00,  2.58660997e+00, -1.33226763e-15],\n",
       "        [-1.77635684e-15, -5.59036718e-01, -1.35184203e+00, ...,\n",
       "          2.05834439e+00,  1.18003065e+00,  4.44089210e-16]],\n",
       "\n",
       "       ...,\n",
       "\n",
       "       [[ 1.11022302e-16,  1.40451180e+00,  1.98130669e+00, ...,\n",
       "         -1.02271577e+01, -5.75133876e+00,  4.44089210e-16],\n",
       "        [ 0.00000000e+00,  8.85012670e-01,  1.09019096e+00, ...,\n",
       "         -1.37319779e+01, -7.95696012e+00, -2.22044605e-15],\n",
       "        [-8.88178420e-16, -2.27403973e+00, -4.19933098e+00, ...,\n",
       "         -1.52510455e+01, -8.90305758e+00, -2.66453526e-15]],\n",
       "\n",
       "       [[-7.77156117e-16, -3.74367124e+00, -7.35022127e+00, ...,\n",
       "          3.27569877e+00,  1.57455423e+00,  1.33226763e-15],\n",
       "        [ 1.22124533e-15, -3.98443176e+00, -8.16402249e+00, ...,\n",
       "          8.72939207e+00,  4.61828792e+00,  4.44089210e-16],\n",
       "        [-1.33226763e-15, -8.45090984e-01, -2.45835166e+00, ...,\n",
       "          1.40466525e+01,  7.42508632e+00,  2.22044605e-16]],\n",
       "\n",
       "       [[ 1.33226763e-15, -2.72723986e-01, -4.31170183e-01, ...,\n",
       "         -7.28141364e+00, -4.12432298e+00, -1.83186799e-15],\n",
       "        [ 4.44089210e-16, -8.85125338e-01, -1.90476044e+00, ...,\n",
       "         -8.25557343e+00, -4.52124432e+00, -1.77635684e-15],\n",
       "        [-1.22124533e-15,  7.81490902e-01,  1.18312429e+00, ...,\n",
       "         -3.25770681e+00, -1.66524159e+00, -4.99600361e-16]]])"
      ]
     },
     "execution_count": 58,
     "metadata": {},
     "output_type": "execute_result"
    }
   ],
   "source": [
    "#print(df1.shape)\n",
    "\n",
    "# classes1\n",
    "# a = sio.loadmat(\"./matFiles/A01T.mat\")\n",
    "# data = (a['EEG'][0][0][15])\n",
    "\n",
    "# print(data.shape)\n",
    "# print(df1.shape)\n",
    "\n",
    "\n",
    "# band pass\n",
    "mne.filter.filter_data(df1,sfreq=250, l_freq =7., h_freq=30., fir_design='firwin')\n",
    "\n",
    "# epoch the data \n",
    "\n"
   ]
  },
  {
   "cell_type": "code",
   "execution_count": null,
   "metadata": {},
   "outputs": [],
   "source": []
  }
 ],
 "metadata": {
  "interpreter": {
   "hash": "ad3250197963f7c7d19e8abaa1df4bb0f2205c0f2efe8e4b49cbd870ac1b8664"
  },
  "kernelspec": {
   "display_name": "Python 3.9.7 ('cogs')",
   "language": "python",
   "name": "python3"
  },
  "language_info": {
   "codemirror_mode": {
    "name": "ipython",
    "version": 3
   },
   "file_extension": ".py",
   "mimetype": "text/x-python",
   "name": "python",
   "nbconvert_exporter": "python",
   "pygments_lexer": "ipython3",
   "version": "3.9.7"
  },
  "orig_nbformat": 4
 },
 "nbformat": 4,
 "nbformat_minor": 2
}

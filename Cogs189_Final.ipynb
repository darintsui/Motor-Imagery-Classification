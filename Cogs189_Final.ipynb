{
 "cells": [
  {
   "cell_type": "markdown",
   "metadata": {},
   "source": [
    "# COGS 189: Final Project\n",
    "### Members: Ehson Pirouzian, ... write your own\n",
    "\n",
    "This is our Winter 2022 Final Project for COGS 189\n",
    "The purpose is a machine learning project that relates to motor sensory data from BCI competition IV dataset 2a"
   ]
  },
  {
   "cell_type": "markdown",
   "metadata": {},
   "source": [
    "### Hypothesis\n",
    "\n",
    "Is it easiest to classify data left hand sensory data against right hand, foot, or tounge sensory data?"
   ]
  },
  {
   "cell_type": "markdown",
   "metadata": {},
   "source": [
    "### Code\n",
    "\n",
    "We will use matlab and python for how we test our hypothesis\n"
   ]
  },
  {
   "cell_type": "markdown",
   "metadata": {},
   "source": [
    "#### Importing the data"
   ]
  },
  {
   "cell_type": "code",
   "execution_count": 104,
   "metadata": {},
   "outputs": [],
   "source": [
    "import os\n",
    "import numpy as np\n",
    "import pandas as pd\n",
    "from pprint import pprint\n",
    "import scipy.io as sio\n",
    "import mne\n",
    "from mne import Epochs, pick_types, events_from_annotations\n",
    "from mne.channels import make_standard_montage\n",
    "from mne.io import concatenate_raws, read_raw_edf\n",
    "from mne.datasets import eegbci\n",
    "from mne.decoding import CSP"
   ]
  },
  {
   "cell_type": "code",
   "execution_count": 103,
   "metadata": {},
   "outputs": [],
   "source": [
    "\n",
    "def get_data(subject,training,PATH):\n",
    "\tNO_channels = 22\n",
    "\tNO_tests = 6*48 \t\n",
    "\tWindow_Length = 7*250 \n",
    "\n",
    "\tclass_return = np.zeros(NO_tests)\n",
    "\tdata_return = np.zeros((NO_tests,NO_channels,Window_Length))\n",
    "\n",
    "\tNO_valid_trial = 0\n",
    "\tif training:\n",
    "\t\ta = sio.loadmat(PATH+'A0'+str(subject)+'T.mat')\n",
    "\telse:\n",
    "\t\ta = sio.loadmat(PATH+'A0'+str(subject)+'E.mat')\n",
    "\ta_data = a['data']\n",
    "\tfor ii in range(0,a_data.size):\n",
    "\t\ta_data1 = a_data[0,ii]\n",
    "\t\ta_data2=[a_data1[0,0]]\n",
    "\t\ta_data3=a_data2[0]\n",
    "\t\ta_X \t\t= a_data3[0]\n",
    "\t\ta_trial \t= a_data3[1]\n",
    "\t\ta_y \t\t= a_data3[2]\n",
    "\t\ta_fs \t\t= a_data3[3]\n",
    "\t\ta_classes \t= a_data3[4]\n",
    "\t\ta_artifacts = a_data3[5]\n",
    "\t\ta_gender \t= a_data3[6]\n",
    "\t\ta_age \t\t= a_data3[7]\n",
    "\t\tfor trial in range(0,a_trial.size):\n",
    "\t\t\tif(a_artifacts[trial]==0):\n",
    "\t\t\t\tdata_return[NO_valid_trial,:,:] = np.transpose(a_X[int(a_trial[trial]):(int(a_trial[trial])+Window_Length),:22])\n",
    "\t\t\t\tclass_return[NO_valid_trial] = int(a_y[trial])\n",
    "\t\t\t\tNO_valid_trial +=1\n",
    "\n",
    "\n",
    "\treturn data_return[0:NO_valid_trial,:,:], class_return[0:NO_valid_trial]\n",
    "\t\n",
    "\n",
    "# Now we will import each of the 9 training files\n",
    "df1, classes1 = get_data(\"1\",True,\"./dataset2a/\")\n",
    "df2, classes2 = get_data(\"2\",True,\"./dataset2a/\")\n",
    "df3, classes3 = get_data(\"3\",True,\"./dataset2a/\")\n",
    "df4, classes4 = get_data(\"4\",True,\"./dataset2a/\")\n",
    "df5, classes5 = get_data(\"5\",True,\"./dataset2a/\")\n",
    "df6, classes6 = get_data(\"6\",True,\"./dataset2a/\")\n",
    "df7, classes7 = get_data(\"7\",True,\"./dataset2a/\")\n",
    "df8, classes8 = get_data(\"8\",True,\"./dataset2a/\")\n",
    "df9, classes9 = get_data(\"9\",True,\"./dataset2a/\")\n"
   ]
  },
  {
   "cell_type": "code",
   "execution_count": 105,
   "metadata": {},
   "outputs": [],
   "source": [
    "# 4 classes, #some number of tests, 3 channels, 1750 datapoints each\n",
    "# this will become 4 different dataframes for each class with 3 channels and #tests for each channel * datapoints\n",
    "\n",
    "df1 = df1[:,(7,9,11),:]\n",
    "df2 = df2[:,(7,9,11),:]\n",
    "df3 = df3[:,(7,9,11),:]\n",
    "df4 = df4[:,(7,9,11),:]\n",
    "df5 = df5[:,(7,9,11),:]\n",
    "df6 = df6[:,(7,9,11),:]\n",
    "df7 = df7[:,(7,9,11),:]\n",
    "df8 = df8[:,(7,9,11),:]\n",
    "df9 = df9[:,(7,9,11),:]\n",
    "\n"
   ]
  },
  {
   "cell_type": "code",
   "execution_count": 151,
   "metadata": {},
   "outputs": [
    {
     "name": "stdout",
     "output_type": "stream",
     "text": [
      "Extracting EDF parameters from /Users/ehson/Documents/Classes/COGS189/Cogs-189-Project/BCICIV_2a_gdf/A01T.gdf...\n",
      "GDF file detected\n",
      "Setting channel info structure...\n",
      "Could not determine channel type of the following channels, they will be set as EEG:\n",
      "EEG-Fz, EEG, EEG, EEG, EEG, EEG, EEG, EEG-C3, EEG, EEG-Cz, EEG, EEG-C4, EEG, EEG, EEG, EEG, EEG, EEG, EEG, EEG-Pz, EEG, EEG, EOG-left, EOG-central, EOG-right\n",
      "Creating raw.info structure...\n",
      "Reading 0 ... 672527  =      0.000 ...  2690.108 secs...\n"
     ]
    },
    {
     "name": "stderr",
     "output_type": "stream",
     "text": [
      "/Users/ehson/miniconda3/envs/cogs/lib/python3.9/site-packages/mne/io/edf/edf.py:1131: DeprecationWarning: The binary mode of fromstring is deprecated, as it behaves surprisingly on unicode inputs. Use frombuffer instead\n",
      "  etmode = np.fromstring(etmode, UINT8).tolist()[0]\n",
      "/Users/ehson/miniconda3/envs/cogs/lib/python3.9/contextlib.py:126: RuntimeWarning: Channel names are not unique, found duplicates for: {'EEG'}. Applying running numbers for duplicates.\n",
      "  next(self.gen)\n"
     ]
    },
    {
     "name": "stdout",
     "output_type": "stream",
     "text": [
      "<Info | 7 non-empty values\n",
      " bads: []\n",
      " ch_names: EEG-Fz, EEG-0, EEG-1, EEG-2, EEG-3, EEG-4, EEG-5, EEG-C3, EEG-6, ...\n",
      " chs: 25 EEG\n",
      " custom_ref_applied: False\n",
      " highpass: 0.5 Hz\n",
      " lowpass: 100.0 Hz\n",
      " meas_date: 2005-01-17 12:00:00 UTC\n",
      " nchan: 25\n",
      " projs: []\n",
      " sfreq: 250.0 Hz\n",
      ">\n",
      "Filtering raw data in 1 contiguous segment\n",
      "Setting up band-pass filter from 7 - 30 Hz\n",
      "\n",
      "FIR filter parameters\n",
      "---------------------\n",
      "Designing a one-pass, zero-phase, non-causal bandpass filter:\n",
      "- Windowed time-domain design (firwin) method\n",
      "- Hamming window with 0.0194 passband ripple and 53 dB stopband attenuation\n",
      "- Lower passband edge: 7.00\n",
      "- Lower transition bandwidth: 2.00 Hz (-6 dB cutoff frequency: 6.00 Hz)\n",
      "- Upper passband edge: 30.00 Hz\n",
      "- Upper transition bandwidth: 7.50 Hz (-6 dB cutoff frequency: 33.75 Hz)\n",
      "- Filter length: 413 samples (1.652 sec)\n",
      "\n"
     ]
    },
    {
     "data": {
      "text/html": [
       "\n",
       "\n",
       "<table class=\"table table-hover table-striped table-sm table-responsive small\">\n",
       "    <tr>\n",
       "        <th>Measurement date</th>\n",
       "        <td>January 17, 2005  12:00:00 GMT</td>\n",
       "        \n",
       "    </tr>\n",
       "    <tr>\n",
       "        <th>Experimenter</th>\n",
       "<td>Unknown</td>\n",
       "    </tr>\n",
       "        <th>Participant</th>\n",
       "<td>Unknown</td>\n",
       "    </tr>\n",
       "    <tr>\n",
       "        <th>Digitized points</th>\n",
       "        <td>3 points</td>\n",
       "    </tr>\n",
       "    <tr>\n",
       "        <th>Good channels</th>\n",
       "        <td>25 EEG</td>\n",
       "    </tr>\n",
       "    <tr>\n",
       "        <th>Bad channels</th>\n",
       "        <td>None</td>\n",
       "    </tr>\n",
       "    <tr>\n",
       "        <th>EOG channels</th>\n",
       "        <td>Not available</td>\n",
       "    </tr>\n",
       "    <tr>\n",
       "        <th>ECG channels</th>\n",
       "        <td>Not available</td>\n",
       "    <tr>\n",
       "        <th>Sampling frequency</th>\n",
       "        <td>250.00 Hz</td>\n",
       "    </tr>\n",
       "    <tr>\n",
       "        <th>Highpass</th>\n",
       "        <td>7.00 Hz</td>\n",
       "    </tr>\n",
       "    <tr>\n",
       "        <th>Lowpass</th>\n",
       "        <td>30.00 Hz</td>\n",
       "    </tr>\n",
       "\n",
       "    <tr>\n",
       "        <th>Filenames</th>\n",
       "        <td>A01T.gdf</td>\n",
       "    </tr>\n",
       "    <tr>\n",
       "        <th>Duration</th>\n",
       "        <td>00:44:50 (HH:MM:SS)</td>\n",
       "    </tr>\n",
       "</table>\n"
      ],
      "text/plain": [
       "<RawGDF | A01T.gdf, 25 x 672528 (2690.1 s), ~128.3 MB, data loaded>"
      ]
     },
     "execution_count": 151,
     "metadata": {},
     "output_type": "execute_result"
    }
   ],
   "source": [
    "raw = mne.io.read_raw_gdf('./BCICIV_2a_gdf/A01T.gdf', preload=True)\n",
    "# print(raw['data'][1])\n",
    "eegbci.standardize(raw)  # set channel names\n",
    "print(raw.info)\n",
    "montage = mne.channels.make_standard_montage('biosemi256')\n",
    "raw.set_montage(montage, on_missing='ignore')\n",
    "\n",
    "raw.rename_channels(lambda x: x.strip('.'))\n",
    "raw.filter(7., 30., fir_design='firwin', skip_by_annotation='edge')\n"
   ]
  },
  {
   "cell_type": "code",
   "execution_count": 158,
   "metadata": {},
   "outputs": [
    {
     "name": "stdout",
     "output_type": "stream",
     "text": [
      "Used Annotations descriptions: ['1023', '1072', '276', '277', '32766', '768', '769', '770', '771', '772']\n"
     ]
    },
    {
     "data": {
      "text/plain": [
       "(array([[     0,      0,      5],\n",
       "        [     0,      0,      3],\n",
       "        [ 29683,      0,      5],\n",
       "        ...,\n",
       "        [670550,      0,      6],\n",
       "        [670550,      0,      1],\n",
       "        [671050,      0,      7]]),\n",
       " {'1023': 1,\n",
       "  '1072': 2,\n",
       "  '276': 3,\n",
       "  '277': 4,\n",
       "  '32766': 5,\n",
       "  '768': 6,\n",
       "  '769': 7,\n",
       "  '770': 8,\n",
       "  '771': 9,\n",
       "  '772': 10})"
      ]
     },
     "execution_count": 158,
     "metadata": {},
     "output_type": "execute_result"
    }
   ],
   "source": [
    "mne.events_from_annotations(raw)\n"
   ]
  },
  {
   "cell_type": "code",
   "execution_count": 162,
   "metadata": {},
   "outputs": [
    {
     "name": "stdout",
     "output_type": "stream",
     "text": [
      "Used Annotations descriptions: ['1023', '1072', '276', '277', '32766', '768', '769', '770', '771', '772']\n",
      "[[     0      0      5]\n",
      " [     0      0      3]\n",
      " [ 29683      0      5]\n",
      " ...\n",
      " [670550      0      6]\n",
      " [670550      0      1]\n",
      " [671050      0      7]]\n",
      "[array([94371,     0,     9]), array([104277,      0,      9]), array([110256,      0,      9]), array([128170,      0,      9]), array([138329,      0,      9]), array([158713,      0,      9]), array([160756,      0,      9]), array([162820,      0,      9]), array([166812,      0,      9]), array([174759,      0,      9]), array([178868,      0,      9]), array([184816,      0,      9]), array([199195,      0,      9]), array([203162,      0,      9]), array([210892,      0,      9]), array([212864,      0,      9]), array([216775,      0,      9]), array([227071,      0,      9]), array([241182,      0,      9]), array([247187,      0,      9]), array([249258,      0,      9]), array([253457,      0,      9]), array([271594,      0,      9]), array([279537,      0,      9]), array([291911,      0,      9]), array([293919,      0,      9]), array([301928,      0,      9]), array([315730,      0,      9]), array([325976,      0,      9]), array([340021,      0,      9]), array([356490,      0,      9]), array([362445,      0,      9]), array([368429,      0,      9]), array([370419,      0,      9]), array([372538,      0,      9]), array([374444,      0,      9]), array([388746,      0,      9]), array([390754,      0,      9]), array([394782,      0,      9]), array([410445,      0,      9]), array([416639,      0,      9]), array([420741,      0,      9]), array([438831,      0,      9]), array([449218,      0,      9]), array([457317,      0,      9]), array([463286,      0,      9]), array([465264,      0,      9]), array([477380,      0,      9]), array([479708,      0,      9]), array([493667,      0,      9]), array([495598,      0,      9]), array([525669,      0,      9]), array([533691,      0,      9]), array([554152,      0,      9]), array([556115,      0,      9]), array([562099,      0,      9]), array([564089,      0,      9]), array([566208,      0,      9]), array([570042,      0,      9]), array([574215,      0,      9]), array([586535,      0,      9]), array([592433,      0,      9]), array([598232,      0,      9]), array([608243,      0,      9]), array([614411,      0,      9]), array([620473,      0,      9]), array([628522,      0,      9]), array([634527,      0,      9]), array([650987,      0,      9]), array([652950,      0,      9]), array([656956,      0,      9]), array([664949,      0,      9])]\n"
     ]
    }
   ],
   "source": [
    "def filterEventsLeft_Foot(events):\n",
    "    finalArray = []\n",
    "    for event in events:\n",
    "        if event[2] == 8 | event[2] == 9:\n",
    "            finalArray.append(event)\n",
    "    return finalArray\n",
    "\n",
    "events, _ = events_from_annotations(raw)\n",
    "events = filterEventsLeft_Foot(events)\n",
    "\n",
    "picks = pick_types(raw.info, meg=False, eeg=True, stim=False, eog=False, exclude='bads')\n",
    "\n",
    "event_id = dict(hands=8, feet=9)\n",
    "epochs = Epochs(raw, events, event_id, tmin, tmax, proj=True, picks=picks, baseline=None, preload=True)"
   ]
  },
  {
   "cell_type": "markdown",
   "metadata": {},
   "source": [
    "Here I will explain our reasoning for the above code\n",
    "\n",
    "\n",
    "\n",
    "\n",
    "\n",
    "\n",
    "As a citation of sources we used this data set as a guide for formatting our data\n",
    "\n",
    "1. https://github.com/MultiScale-BCI/IV-2a/blob/master/  by \"Michael Hersche and Tino Rellstab\""
   ]
  },
  {
   "cell_type": "code",
   "execution_count": 112,
   "metadata": {},
   "outputs": [
    {
     "name": "stdout",
     "output_type": "stream",
     "text": [
      "Setting up band-pass filter from 7 - 30 Hz\n",
      "\n",
      "FIR filter parameters\n",
      "---------------------\n",
      "Designing a one-pass, zero-phase, non-causal bandpass filter:\n",
      "- Windowed time-domain design (firwin) method\n",
      "- Hamming window with 0.0194 passband ripple and 53 dB stopband attenuation\n",
      "- Lower passband edge: 7.00\n",
      "- Lower transition bandwidth: 2.00 Hz (-6 dB cutoff frequency: 6.00 Hz)\n",
      "- Upper passband edge: 30.00 Hz\n",
      "- Upper transition bandwidth: 7.50 Hz (-6 dB cutoff frequency: 33.75 Hz)\n",
      "- Filter length: 413 samples (1.652 sec)\n",
      "\n",
      "(273, 3, 1750)\n"
     ]
    },
    {
     "ename": "ValueError",
     "evalue": "The first argument to `Epochs` must be an instance of mne.io.BaseRaw",
     "output_type": "error",
     "traceback": [
      "\u001b[0;31m---------------------------------------------------------------------------\u001b[0m",
      "\u001b[0;31mValueError\u001b[0m                                Traceback (most recent call last)",
      "\u001b[0;32m/var/folders/vm/4clncyz129b_xbn8m9snhw780000gn/T/ipykernel_79145/50829323.py\u001b[0m in \u001b[0;36m<module>\u001b[0;34m\u001b[0m\n\u001b[1;32m     15\u001b[0m \u001b[0;31m# epoch the data\u001b[0m\u001b[0;34m\u001b[0m\u001b[0;34m\u001b[0m\u001b[0m\n\u001b[1;32m     16\u001b[0m \u001b[0;34m\u001b[0m\u001b[0m\n\u001b[0;32m---> 17\u001b[0;31m \u001b[0mepochs\u001b[0m \u001b[0;34m=\u001b[0m \u001b[0mEpochs\u001b[0m\u001b[0;34m(\u001b[0m\u001b[0mdf1\u001b[0m\u001b[0;34m,\u001b[0m \u001b[0mclasses1\u001b[0m\u001b[0;34m,\u001b[0m \u001b[0;34m[\u001b[0m\u001b[0;36m2.0\u001b[0m\u001b[0;34m,\u001b[0m \u001b[0;36m3.0\u001b[0m\u001b[0;34m]\u001b[0m\u001b[0;34m,\u001b[0m \u001b[0;36m3\u001b[0m\u001b[0;34m,\u001b[0m \u001b[0;36m6\u001b[0m\u001b[0;34m,\u001b[0m \u001b[0mproj\u001b[0m\u001b[0;34m=\u001b[0m\u001b[0;32mTrue\u001b[0m\u001b[0;34m,\u001b[0m \u001b[0mbaseline\u001b[0m\u001b[0;34m=\u001b[0m\u001b[0;32mNone\u001b[0m\u001b[0;34m,\u001b[0m \u001b[0mpreload\u001b[0m\u001b[0;34m=\u001b[0m\u001b[0;32mTrue\u001b[0m\u001b[0;34m)\u001b[0m\u001b[0;34m\u001b[0m\u001b[0;34m\u001b[0m\u001b[0m\n\u001b[0m\u001b[1;32m     18\u001b[0m \u001b[0;34m\u001b[0m\u001b[0m\n",
      "\u001b[0;32m<decorator-gen-243>\u001b[0m in \u001b[0;36m__init__\u001b[0;34m(self, raw, events, event_id, tmin, tmax, baseline, picks, preload, reject, flat, proj, decim, reject_tmin, reject_tmax, detrend, on_missing, reject_by_annotation, metadata, event_repeated, verbose)\u001b[0m\n",
      "\u001b[0;32m~/miniconda3/envs/cogs/lib/python3.9/site-packages/mne/epochs.py\u001b[0m in \u001b[0;36m__init__\u001b[0;34m(self, raw, events, event_id, tmin, tmax, baseline, picks, preload, reject, flat, proj, decim, reject_tmin, reject_tmax, detrend, on_missing, reject_by_annotation, metadata, event_repeated, verbose)\u001b[0m\n\u001b[1;32m   2574\u001b[0m                  event_repeated='error', verbose=None):  # noqa: D102\n\u001b[1;32m   2575\u001b[0m         \u001b[0;32mif\u001b[0m \u001b[0;32mnot\u001b[0m \u001b[0misinstance\u001b[0m\u001b[0;34m(\u001b[0m\u001b[0mraw\u001b[0m\u001b[0;34m,\u001b[0m \u001b[0mBaseRaw\u001b[0m\u001b[0;34m)\u001b[0m\u001b[0;34m:\u001b[0m\u001b[0;34m\u001b[0m\u001b[0;34m\u001b[0m\u001b[0m\n\u001b[0;32m-> 2576\u001b[0;31m             raise ValueError('The first argument to `Epochs` must be an '\n\u001b[0m\u001b[1;32m   2577\u001b[0m                              'instance of mne.io.BaseRaw')\n\u001b[1;32m   2578\u001b[0m         \u001b[0minfo\u001b[0m \u001b[0;34m=\u001b[0m \u001b[0mdeepcopy\u001b[0m\u001b[0;34m(\u001b[0m\u001b[0mraw\u001b[0m\u001b[0;34m.\u001b[0m\u001b[0minfo\u001b[0m\u001b[0;34m)\u001b[0m\u001b[0;34m\u001b[0m\u001b[0;34m\u001b[0m\u001b[0m\n",
      "\u001b[0;31mValueError\u001b[0m: The first argument to `Epochs` must be an instance of mne.io.BaseRaw"
     ]
    }
   ],
   "source": [
    "#print(df1.shape)\n",
    "\n",
    "# classes1\n",
    "# a = sio.loadmat(\"./matFiles/A01T.mat\")\n",
    "# data = (a['EEG'][0][0][15])\n",
    "\n",
    "# print(data.shape)\n",
    "# print(df1.shape)\n",
    "\n",
    "\n",
    "# band pass\n",
    "df1 = mne.filter.filter_data(df1,sfreq=250, l_freq =7., h_freq=30., fir_design='firwin')\n",
    "\n",
    "print(df1.shape)\n",
    "# epoch the data \n",
    "\n",
    "# epochs = Epochs(df1, classes1, [2.0, 3.0], 3, 6, proj=True, baseline=None, preload=True)\n",
    "\n"
   ]
  },
  {
   "cell_type": "code",
   "execution_count": null,
   "metadata": {},
   "outputs": [],
   "source": []
  }
 ],
 "metadata": {
  "interpreter": {
   "hash": "ad3250197963f7c7d19e8abaa1df4bb0f2205c0f2efe8e4b49cbd870ac1b8664"
  },
  "kernelspec": {
   "display_name": "Python 3.9.7 ('cogs')",
   "language": "python",
   "name": "python3"
  },
  "language_info": {
   "codemirror_mode": {
    "name": "ipython",
    "version": 3
   },
   "file_extension": ".py",
   "mimetype": "text/x-python",
   "name": "python",
   "nbconvert_exporter": "python",
   "pygments_lexer": "ipython3",
   "version": "3.9.7"
  },
  "orig_nbformat": 4
 },
 "nbformat": 4,
 "nbformat_minor": 2
}
